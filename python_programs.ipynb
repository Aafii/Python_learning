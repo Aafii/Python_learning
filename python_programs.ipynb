{
 "cells": [
  {
   "cell_type": "markdown",
   "metadata": {},
   "source": [
    "# 1. Greeting Project \n",
    "\n",
    "## Instruction\n",
    "\n",
    "Write a program that uses input to prompt a user for their name and then welcomes them.\n",
    "\n",
    "## Input\n",
    "\n",
    "```\n",
    "aafrin\n",
    "```\n",
    "\n",
    "## Output\n",
    "```\n",
    "Hello aafrin.\n",
    "Welcome to the Python\n",
    "```"
   ]
  },
  {
   "cell_type": "code",
   "execution_count": 1,
   "metadata": {},
   "outputs": [
    {
     "name": "stdout",
     "output_type": "stream",
     "text": [
      "Hello Aafi\n",
      "Welcome to the python Aafi\n"
     ]
    }
   ],
   "source": [
    "a=(input(\"Enter your name:\"))\n",
    "print(\"Hello\",a)\n",
    "print(f\"Welcome to the python {a}\")"
   ]
  },
  {
   "cell_type": "markdown",
   "metadata": {},
   "source": [
    "# 2. Group Name Project \n",
    "\n",
    "## Instruction\n",
    "\n",
    "1. Create a greeting for your program.\n",
    "2. Ask the user for their favorite color.\n",
    "3. Ask the user for their favotire animal.\n",
    "4. Combine the name of their favorite color and animal and show them their group name.\n",
    "\n",
    "## Examples\n",
    "\n",
    "```\n",
    "Welcome to the Group Name Generator.\n",
    "What's your favorite color?\n",
    "> Red\n",
    "What's your favorite animal?\n",
    "> Lion\n",
    "Your group name could be Red Lions\n",
    "```\n",
    "\n"
   ]
  },
  {
   "cell_type": "code",
   "execution_count": 38,
   "metadata": {},
   "outputs": [
    {
     "name": "stdout",
     "output_type": "stream",
     "text": [
      "Welcome to the Group name generator\n",
      "Your group name could be pink cat pet\n"
     ]
    }
   ],
   "source": [
    "print(\"Welcome to the Group name generator\")\n",
    "a=input(\"Whats your fav colour?:\")\n",
    "b=input(\"Whats your fav animal?:\")\n",
    "c=(a+\" \"+b+\"s\")\n",
    "d=input(\"type\")\n",
    "print(\"Your group name could be {color} {animal} {type}\".format(color=a,animal=b,type=d))"
   ]
  },
  {
   "cell_type": "code",
   "execution_count": null,
   "metadata": {},
   "outputs": [],
   "source": []
  },
  {
   "cell_type": "code",
   "execution_count": 17,
   "metadata": {},
   "outputs": [
    {
     "name": "stdout",
     "output_type": "stream",
     "text": [
      "Welcome to the Group name generator\n",
      "Your group name could be black pandas\n"
     ]
    }
   ],
   "source": [
    "print(\"Welcome to the Group name generator\")\n",
    "a=input(\"Whats your fav colour?:\")\n",
    "b=input(\"Whats your fav animal?:\")\n",
    "c=(a+\" \"+b+\"s\")\n",
    "print(\"Your group name could be\",c)"
   ]
  },
  {
   "cell_type": "markdown",
   "metadata": {},
   "source": [
    "# 3. Gross Pay Project \n",
    "\n",
    "## Instruction\n",
    "\n",
    "Write a program to prompt the user for hours and rate per hour to compute gross pay. You need to take into account that the result has exactly two digits after the decimal place.\n",
    "\n",
    "## Input\n",
    "\n",
    "```\n",
    "Enter Hours: 35\n",
    "Enter Rate: 2.75\n",
    "\n",
    "```\n",
    "\n",
    "## Output\n",
    "```\n",
    "Pay: 96.25\n",
    "```\n",
    "\n"
   ]
  },
  {
   "cell_type": "code",
   "execution_count": 48,
   "metadata": {},
   "outputs": [
    {
     "name": "stdout",
     "output_type": "stream",
     "text": [
      "47.2\n"
     ]
    }
   ],
   "source": [
    "a=float(input(\"Enter hours:\"))\n",
    "b=int(input(\"Enter Rate:\"))\n",
    "c=(a*b)\n",
    "print(c)\n"
   ]
  },
  {
   "cell_type": "markdown",
   "metadata": {},
   "source": [
    "#  4. Celsius to Fahrenheit Project \n",
    "\n",
    "## Instruction\n",
    "\n",
    "Write a program which prompts the user for a Celsius temperature, convert the temperature to Fahrenheit, and print out the converted temperature.\n",
    "Formula : (°C × 9/5) + 32 = °F\n",
    "\n",
    "## Input\n",
    "\n",
    "```\n",
    "Enter Temperature in Celsius: 10\n",
    "```\n",
    "\n",
    "## Output\n",
    "```\n",
    "10 Celsius = 50 Fahrenheit\n",
    "```\n",
    "\n"
   ]
  },
  {
   "cell_type": "code",
   "execution_count": 79,
   "metadata": {},
   "outputs": [
    {
     "name": "stdout",
     "output_type": "stream",
     "text": [
      "<class 'int'>\n",
      "<class 'int'>\n",
      "<class 'str'>\n",
      "<class 'str'>\n",
      "22 celsius=71 fahrenheit\n"
     ]
    }
   ],
   "source": [
    "a=int(input(\"Enter Temperature in Celsius:\"))\n",
    "b=int((a*9/5) + 32)\n",
    "print(type(a))\n",
    "\n",
    "\n",
    "print(type(b))\n",
    "a=str(a)\n",
    "b=str(b)\n",
    "print(type(a))\n",
    "print(type(b))\n",
    "print(a+\" \"+\"celsius\"+\"=\"+b+\" \"+\"fahrenheit\")"
   ]
  },
  {
   "cell_type": "code",
   "execution_count": 78,
   "metadata": {},
   "outputs": [
    {
     "name": "stdout",
     "output_type": "stream",
     "text": [
      "22 Celsius = 71 fahrenheit \n"
     ]
    }
   ],
   "source": [
    "a=int(input(\"Enter Temperature in Celsius:\"))\n",
    "b=int((a*9/5) + 32)\n",
    "print(f\"{a} Celsius = {b} fahrenheit \")\n"
   ]
  },
  {
   "cell_type": "markdown",
   "metadata": {},
   "source": [
    "# 5. Trip Cost Calculator Project \n",
    "\n",
    "## Instruction\n",
    "\n",
    "Write a program which calculates trip cost for a user. \n",
    "1. Create a greeting for your program.\n",
    "2. Ask the user for number of days.\n",
    "3. Ask the user for hotel price.\n",
    "4. Ask the user for flight price.\n",
    "5. Ask the user for rental car price.\n",
    "6. Ask for other expenses.\n",
    "4. Combine all expenses together and print with 2 digits after decimal places.\n",
    "\n",
    "## Input\n",
    "\n",
    "```\n",
    "Welcome to the Trip Cost Calculator!\n",
    "How many days will you stay? 3\n",
    "How much does hotel cost per night? 300\n",
    "How much does flight cost? 5000\n",
    "If you need rental car please enter the price otherwise enter zero. 1000\n",
    "Enter other possible expenses 2000\n",
    "\n",
    "```\n",
    "\n",
    "## Output\n",
    "```\n",
    "Total Cost: 170.0\n",
    "```\n",
    "\n"
   ]
  },
  {
   "cell_type": "code",
   "execution_count": 54,
   "metadata": {},
   "outputs": [
    {
     "name": "stdout",
     "output_type": "stream",
     "text": [
      "Welcome to the Trip Cost Calculator!\n",
      "51251.0\n"
     ]
    }
   ],
   "source": [
    "print(\"Welcome to the Trip Cost Calculator!\")\n",
    "a=float(input(\"How many days will you stay?\")) \n",
    "b=int(input(\"How much does hotel cost per night?\"))\n",
    "c=int(input(\"How much does flight cost?\"))\n",
    "d=int(input(\"If you need rental car please enter the price otherwise enter zero\"))\n",
    "e=int(input(\"Enter other possible expenses\"))\n",
    "print(a+b+c+d+e)\n"
   ]
  },
  {
   "cell_type": "markdown",
   "metadata": {},
   "source": [
    "# 6. Even or Odd \n",
    "\n",
    "## Instruction\n",
    "\n",
    "Write a program that takes an integer number from console and checks whether if a number is an odd or even.\n",
    "\n",
    "\n",
    "## Input\n",
    "\n",
    "```\n",
    "100\n",
    "\n",
    "```\n",
    "\n",
    "## Output\n",
    "```\n",
    "Even\n",
    "```\n",
    "\n",
    "\n",
    "\n",
    "#### Hint\n",
    "\n",
    "Use modulus operator that we have learnt in previous section"
   ]
  },
  {
   "cell_type": "code",
   "execution_count": 52,
   "metadata": {},
   "outputs": [
    {
     "name": "stdout",
     "output_type": "stream",
     "text": [
      "Its an odd number\n"
     ]
    }
   ],
   "source": [
    "a=int(input(\"Enter a number:\"))\n",
    "b=(a%2)\n",
    "if (b==0):\n",
    "    print(\"Its an even number\")\n",
    "else:\n",
    "    print(\"Its an odd number\")"
   ]
  },
  {
   "cell_type": "code",
   "execution_count": 86,
   "metadata": {},
   "outputs": [
    {
     "data": {
      "text/plain": [
       "False"
      ]
     },
     "execution_count": 86,
     "metadata": {},
     "output_type": "execute_result"
    }
   ],
   "source": [
    "a=12\n",
    "#a>10\n",
    "a>15\n",
    "# a>10 and a<15\n",
    "not a<15\n"
   ]
  },
  {
   "cell_type": "code",
   "execution_count": 3,
   "metadata": {},
   "outputs": [
    {
     "name": "stdout",
     "output_type": "stream",
     "text": [
      "Aafii\n"
     ]
    }
   ],
   "source": [
    "print(\"Aafii\")"
   ]
  },
  {
   "cell_type": "code",
   "execution_count": 2,
   "metadata": {},
   "outputs": [
    {
     "name": "stdout",
     "output_type": "stream",
     "text": [
      "Hello world\n"
     ]
    }
   ],
   "source": [
    "print(\"Hello world\")"
   ]
  },
  {
   "cell_type": "code",
   "execution_count": 96,
   "metadata": {},
   "outputs": [
    {
     "name": "stdout",
     "output_type": "stream",
     "text": [
      "10\n"
     ]
    }
   ],
   "source": [
    "#love calculator\n",
    "name1=input()\n",
    "name2=input()\n",
    "combined=name1+name2\n",
    "lowercase=combined.lower()\n",
    "t=lowercase.count(\"t\")\n",
    "r=lowercase.count(\"r\")\n",
    "u=lowercase.count(\"u\")\n",
    "e=lowercase.count(\"e\")\n",
    "first_digit=t+r+u+e\n",
    "\n",
    "l=lowercase.count(\"l\")\n",
    "o=lowercase.count(\"o\")\n",
    "v=lowercase.count(\"v\")\n",
    "e=lowercase.count(\"e\")\n",
    "second_digit=l+o+v+e\n",
    "\n",
    "score=int(str(first_digit)+str(second_digit))\n",
    "print(score)"
   ]
  },
  {
   "cell_type": "code",
   "execution_count": null,
   "metadata": {},
   "outputs": [],
   "source": []
  }
 ],
 "metadata": {
  "kernelspec": {
   "display_name": "Python 3",
   "language": "python",
   "name": "python3"
  },
  "language_info": {
   "codemirror_mode": {
    "name": "ipython",
    "version": 3
   },
   "file_extension": ".py",
   "mimetype": "text/x-python",
   "name": "python",
   "nbconvert_exporter": "python",
   "pygments_lexer": "ipython3",
   "version": "3.11.3"
  }
 },
 "nbformat": 4,
 "nbformat_minor": 2
}
